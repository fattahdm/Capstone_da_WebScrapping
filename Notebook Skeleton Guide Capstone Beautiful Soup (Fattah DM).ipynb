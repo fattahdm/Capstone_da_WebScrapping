{
 "cells": [
  {
   "cell_type": "markdown",
   "metadata": {},
   "source": [
    "# Capstone Webscrapping using BeautifulSoup\n",
    "\n",
    "Oleh Fattah Diwangkara Mahariadi\n",
    "\n",
    "## background\n",
    "\n",
    "Pada projek ini, saya akan menggunakan beautifulsoup untuk menscrapping data dari website coingecko untuk melihat volume penjualan pada Ethereum. Data yang akan di scrap adalah tanggal (Date) dan Volume.\n",
    "\n",
    "## Requesting the Data and Creating a BeautifulSoup\n",
    "\n",
    "Kita memulai dengan menggunakan metode `get` untuk meminta request dari website."
   ]
  },
  {
   "cell_type": "code",
   "execution_count": 2,
   "metadata": {
    "ExecuteTime": {
     "end_time": "2020-01-13T05:12:23.275508Z",
     "start_time": "2020-01-13T05:12:20.009898Z"
    }
   },
   "outputs": [],
   "source": [
    "import requests\n",
    "\n",
    "url_get = requests.get('https://www.coingecko.com/en/coins/ethereum/historical_data?end_date=2022-07-08&start_date=2021-07-08#panel', headers = { 'User-Agent': 'Popular browser\\'s user-agent', })"
   ]
  },
  {
   "cell_type": "markdown",
   "metadata": {},
   "source": [
    "Penambahan kode `headers = { 'User-Agent': 'Popular browser\\'s user-agent', }` pada request digunakan karena sistem keamanan pada website yang sudah ditingkatkan sehingga perlu menambahkan kode tersebut. Untuk memvisualisasikan apa yang sebenarnya saya dapatkan dari `request.get`, kita dapat menggunakan .content jadi lihat apa yang sebenarnya kita dapatkan, di sini saya mengirisnya sehingga tidak membuat layar kita penuh dengan html yang kita dapatkan dari halaman."
   ]
  },
  {
   "cell_type": "code",
   "execution_count": 3,
   "metadata": {
    "ExecuteTime": {
     "end_time": "2020-01-13T05:12:23.290648Z",
     "start_time": "2020-01-13T05:12:23.277650Z"
    }
   },
   "outputs": [
    {
     "data": {
      "text/plain": [
       "b'!DOCTYPE html>\\n<html lang=\"en\">\\n<head>\\n<script src=\"/cdn-cgi/apps/head/gYtXOyllgyP3-Z2iKTP8rRWGBm4.js\"></script><script async defer src=\"https://www.googleoptimize.com/optimize.js?id=GTM-W3CD992\"></script>\\n<meta charset=\"utf-8\">\\n<meta http-equiv=\"X-UA-Compatible\" content=\"IE=edge\">\\n<meta name=\"viewport\" content=\"width=device-width, initial-scale=1.0\">\\n<link rel=\"shortcut icon\" href=\"/favicon.ico\">\\n<link type=\"application/opensearchdescription+xml\" rel=\"search\" href=\"/OpensearchDescription.xml\" '"
      ]
     },
     "execution_count": 3,
     "metadata": {},
     "output_type": "execute_result"
    }
   ],
   "source": [
    "url_get.content[1:500]"
   ]
  },
  {
   "cell_type": "markdown",
   "metadata": {},
   "source": [
    "Seperti terlihat bahwa output html didapat sangat tidak terstruktur dan kompleks, yang sebenarnya berisi kode yang diperlukan untuk menampilkan halaman web di browser web Anda. Sehingga kita dapat menggunakan BeautifulSoup. BeautifulSoup mengubah dokumen HTML kompleks menjadi pohon kompleks objek Python. \n",
    "\n",
    "Untuk menggunakan BeautifulSoup, dilakukan import BeautifulSoup from bs4 dan dapat di assign konten ke objek beautiful soup dengan \"soup'"
   ]
  },
  {
   "cell_type": "code",
   "execution_count": 4,
   "metadata": {
    "ExecuteTime": {
     "end_time": "2020-01-13T05:12:23.808122Z",
     "start_time": "2020-01-13T05:12:23.292610Z"
    }
   },
   "outputs": [],
   "source": [
    "from bs4 import BeautifulSoup \n",
    "\n",
    "soup = BeautifulSoup(url_get.content,\"html.parser\")"
   ]
  },
  {
   "cell_type": "markdown",
   "metadata": {},
   "source": [
    "## Finding the right key to scrap the data & Extracting the right information"
   ]
  },
  {
   "cell_type": "markdown",
   "metadata": {},
   "source": [
    "Untuk mencari dan mengidentifikasi data yang ingin di scrap, gunakan metode `.find()` pada objek soup"
   ]
  },
  {
   "cell_type": "code",
   "execution_count": 5,
   "metadata": {
    "ExecuteTime": {
     "end_time": "2020-01-13T05:12:23.878904Z",
     "start_time": "2020-01-13T05:12:23.854974Z"
    },
    "scrolled": true
   },
   "outputs": [
    {
     "name": "stdout",
     "output_type": "stream",
     "text": [
      "table class=\"table table-striped text-sm text-lg-normal\">\n",
      " <thead>\n",
      "  <tr>\n",
      "   <th class=\"text-center\">\n",
      "    Date\n",
      "   </th>\n",
      "   <th class=\"text-center\">\n",
      "    Market Cap\n",
      "   </th>\n",
      "   <th class=\"text-center\">\n",
      "    Volume\n",
      "   </th>\n",
      "   <th class=\"text-center\">\n",
      "    Open\n",
      "   </th>\n",
      "   <th class=\"text-center\">\n",
      "    Close\n",
      "   </th>\n",
      "  </tr>\n",
      " </thead>\n",
      " <tbody>\n",
      "  <tr>\n",
      "   <th class=\"font-semibold text-center\" scope=\"row\">\n",
      "    2022-07-08\n",
      "   </th>\n",
      "   <td class=\"text-center\">\n",
      "    $148,622,605,231\n",
      "   </td>\n",
      "   <td class=\"te\n"
     ]
    }
   ],
   "source": [
    "table = soup.find('table', attrs={'class':'table table-striped text-sm text-lg-normal'})\n",
    "print(table.prettify()[1:500])"
   ]
  },
  {
   "cell_type": "markdown",
   "metadata": {},
   "source": [
    "Dari output yang didapat, Date pada tag 'th' dengan class nya \"font-semibold text-center\" dan Volume didapatkan tag 'td' dengan class \"text-center\"."
   ]
  },
  {
   "cell_type": "code",
   "execution_count": 6,
   "metadata": {
    "scrolled": true
   },
   "outputs": [
    {
     "data": {
      "text/plain": [
       "[<th class=\"font-semibold text-center\" scope=\"row\">2022-07-08</th>,\n",
       " <th class=\"font-semibold text-center\" scope=\"row\">2022-07-07</th>,\n",
       " <th class=\"font-semibold text-center\" scope=\"row\">2022-07-06</th>,\n",
       " <th class=\"font-semibold text-center\" scope=\"row\">2022-07-05</th>,\n",
       " <th class=\"font-semibold text-center\" scope=\"row\">2022-07-04</th>,\n",
       " <th class=\"font-semibold text-center\" scope=\"row\">2022-07-03</th>,\n",
       " <th class=\"font-semibold text-center\" scope=\"row\">2022-07-02</th>,\n",
       " <th class=\"font-semibold text-center\" scope=\"row\">2022-07-01</th>,\n",
       " <th class=\"font-semibold text-center\" scope=\"row\">2022-06-30</th>,\n",
       " <th class=\"font-semibold text-center\" scope=\"row\">2022-06-29</th>,\n",
       " <th class=\"font-semibold text-center\" scope=\"row\">2022-06-28</th>,\n",
       " <th class=\"font-semibold text-center\" scope=\"row\">2022-06-27</th>,\n",
       " <th class=\"font-semibold text-center\" scope=\"row\">2022-06-26</th>,\n",
       " <th class=\"font-semibold text-center\" scope=\"row\">2022-06-25</th>,\n",
       " <th class=\"font-semibold text-center\" scope=\"row\">2022-06-24</th>,\n",
       " <th class=\"font-semibold text-center\" scope=\"row\">2022-06-23</th>,\n",
       " <th class=\"font-semibold text-center\" scope=\"row\">2022-06-22</th>,\n",
       " <th class=\"font-semibold text-center\" scope=\"row\">2022-06-21</th>,\n",
       " <th class=\"font-semibold text-center\" scope=\"row\">2022-06-20</th>,\n",
       " <th class=\"font-semibold text-center\" scope=\"row\">2022-06-19</th>,\n",
       " <th class=\"font-semibold text-center\" scope=\"row\">2022-06-18</th>,\n",
       " <th class=\"font-semibold text-center\" scope=\"row\">2022-06-17</th>,\n",
       " <th class=\"font-semibold text-center\" scope=\"row\">2022-06-16</th>,\n",
       " <th class=\"font-semibold text-center\" scope=\"row\">2022-06-15</th>,\n",
       " <th class=\"font-semibold text-center\" scope=\"row\">2022-06-14</th>,\n",
       " <th class=\"font-semibold text-center\" scope=\"row\">2022-06-13</th>,\n",
       " <th class=\"font-semibold text-center\" scope=\"row\">2022-06-12</th>,\n",
       " <th class=\"font-semibold text-center\" scope=\"row\">2022-06-11</th>,\n",
       " <th class=\"font-semibold text-center\" scope=\"row\">2022-06-10</th>,\n",
       " <th class=\"font-semibold text-center\" scope=\"row\">2022-06-09</th>,\n",
       " <th class=\"font-semibold text-center\" scope=\"row\">2022-06-08</th>,\n",
       " <th class=\"font-semibold text-center\" scope=\"row\">2022-06-07</th>,\n",
       " <th class=\"font-semibold text-center\" scope=\"row\">2022-06-06</th>,\n",
       " <th class=\"font-semibold text-center\" scope=\"row\">2022-06-05</th>,\n",
       " <th class=\"font-semibold text-center\" scope=\"row\">2022-06-04</th>,\n",
       " <th class=\"font-semibold text-center\" scope=\"row\">2022-06-03</th>,\n",
       " <th class=\"font-semibold text-center\" scope=\"row\">2022-06-02</th>,\n",
       " <th class=\"font-semibold text-center\" scope=\"row\">2022-06-01</th>,\n",
       " <th class=\"font-semibold text-center\" scope=\"row\">2022-05-31</th>,\n",
       " <th class=\"font-semibold text-center\" scope=\"row\">2022-05-30</th>,\n",
       " <th class=\"font-semibold text-center\" scope=\"row\">2022-05-29</th>,\n",
       " <th class=\"font-semibold text-center\" scope=\"row\">2022-05-28</th>,\n",
       " <th class=\"font-semibold text-center\" scope=\"row\">2022-05-27</th>,\n",
       " <th class=\"font-semibold text-center\" scope=\"row\">2022-05-26</th>,\n",
       " <th class=\"font-semibold text-center\" scope=\"row\">2022-05-25</th>,\n",
       " <th class=\"font-semibold text-center\" scope=\"row\">2022-05-24</th>,\n",
       " <th class=\"font-semibold text-center\" scope=\"row\">2022-05-23</th>,\n",
       " <th class=\"font-semibold text-center\" scope=\"row\">2022-05-22</th>,\n",
       " <th class=\"font-semibold text-center\" scope=\"row\">2022-05-21</th>,\n",
       " <th class=\"font-semibold text-center\" scope=\"row\">2022-05-20</th>,\n",
       " <th class=\"font-semibold text-center\" scope=\"row\">2022-05-19</th>,\n",
       " <th class=\"font-semibold text-center\" scope=\"row\">2022-05-18</th>,\n",
       " <th class=\"font-semibold text-center\" scope=\"row\">2022-05-17</th>,\n",
       " <th class=\"font-semibold text-center\" scope=\"row\">2022-05-16</th>,\n",
       " <th class=\"font-semibold text-center\" scope=\"row\">2022-05-15</th>,\n",
       " <th class=\"font-semibold text-center\" scope=\"row\">2022-05-14</th>,\n",
       " <th class=\"font-semibold text-center\" scope=\"row\">2022-05-13</th>,\n",
       " <th class=\"font-semibold text-center\" scope=\"row\">2022-05-12</th>,\n",
       " <th class=\"font-semibold text-center\" scope=\"row\">2022-05-11</th>,\n",
       " <th class=\"font-semibold text-center\" scope=\"row\">2022-05-10</th>]"
      ]
     },
     "execution_count": 6,
     "metadata": {},
     "output_type": "execute_result"
    }
   ],
   "source": [
    "table.find_all('th', attrs={'class':'font-semibold text-center'})"
   ]
  },
  {
   "cell_type": "code",
   "execution_count": 7,
   "metadata": {
    "scrolled": true
   },
   "outputs": [
    {
     "data": {
      "text/plain": [
       "'2022-07-08'"
      ]
     },
     "execution_count": 7,
     "metadata": {},
     "output_type": "execute_result"
    }
   ],
   "source": [
    "table.find_all('th', attrs={'class':'font-semibold text-center'})[0].text"
   ]
  },
  {
   "cell_type": "code",
   "execution_count": 8,
   "metadata": {
    "scrolled": true
   },
   "outputs": [
    {
     "data": {
      "text/plain": [
       "[<td class=\"text-center\">\n",
       " $148,622,605,231\n",
       " </td>,\n",
       " <td class=\"text-center\">\n",
       " $13,170,522,513\n",
       " </td>,\n",
       " <td class=\"text-center\">\n",
       " $1,240.38\n",
       " </td>]"
      ]
     },
     "execution_count": 8,
     "metadata": {},
     "output_type": "execute_result"
    }
   ],
   "source": [
    "table.find_all('td', attrs={'class':'text-center'})[:3]"
   ]
  },
  {
   "cell_type": "markdown",
   "metadata": {},
   "source": [
    "Informasi \"Volume\" seharusnya milik tag 'td' dengan kelas 'text-center', tetapi begitu juga dengan \"Market Cap\", \"Open\", dan \"Close\". Ini adalah masalah yang perlu ditangani."
   ]
  },
  {
   "cell_type": "code",
   "execution_count": 9,
   "metadata": {},
   "outputs": [
    {
     "data": {
      "text/plain": [
       "'\\n$13,170,522,513\\n'"
      ]
     },
     "execution_count": 9,
     "metadata": {},
     "output_type": "execute_result"
    }
   ],
   "source": [
    "table.find_all('td', attrs={'class':'text-center'})[1].text"
   ]
  },
  {
   "cell_type": "code",
   "execution_count": 10,
   "metadata": {},
   "outputs": [
    {
     "data": {
      "text/plain": [
       "'\\n$14,422,132,962\\n'"
      ]
     },
     "execution_count": 10,
     "metadata": {},
     "output_type": "execute_result"
    }
   ],
   "source": [
    "table.find_all('td', attrs={'class':'text-center'})[5].text"
   ]
  },
  {
   "cell_type": "markdown",
   "metadata": {},
   "source": [
    "Finding row length.\n",
    "\n",
    "Selanjutnya, saya perlu mengetahui panjang baris untuk dapat menginisialisasi loop. Dalam mencari panjang baris, saya akan tetap menggunakan kolom \"Tanggal\" sebagai titik fokus dari upaya penghapusan ini."
   ]
  },
  {
   "cell_type": "code",
   "execution_count": 11,
   "metadata": {},
   "outputs": [
    {
     "data": {
      "text/plain": [
       "60"
      ]
     },
     "execution_count": 11,
     "metadata": {},
     "output_type": "execute_result"
    }
   ],
   "source": [
    "date_row = table.find_all('th', attrs={'class':'font-semibold text-center'})\n",
    "date_row_length = len(date_row)\n",
    "date_row_length"
   ]
  },
  {
   "cell_type": "markdown",
   "metadata": {},
   "source": [
    "Ketika saya melihat tag lain yang terdiri dari beberapa kolom, saya menemukan bahwa ada empat kali lipat jumlah baris daripada 'Date':"
   ]
  },
  {
   "cell_type": "code",
   "execution_count": 12,
   "metadata": {},
   "outputs": [
    {
     "data": {
      "text/plain": [
       "240"
      ]
     },
     "execution_count": 12,
     "metadata": {},
     "output_type": "execute_result"
    }
   ],
   "source": [
    "others_row = table.find_all('td', attrs={'class':'text-center'})\n",
    "others_row_length = len(others_row)\n",
    "others_row_length"
   ]
  },
  {
   "cell_type": "markdown",
   "metadata": {},
   "source": [
    "Apa yang harus saya lakukan untuk menghapus hanya kolom Volume? Karena mereka berada di baris yang sama meskipun Date hanya memiliki 1 kolom dan Volume milik kolom kedua dari 4 kolom. Saya dapat membayangkan bahwa mereka memiliki beberapa hubungan matematis yang dapat diketahui.\n",
    "\n",
    "Mari kita lihat polanya:\n",
    "\n",
    "Di baris ke-1: Date termasuk dalam indeks ke-[0], dan Volume milik indeks ke-t [1]\n",
    "\n",
    "Di baris ke-2: Date termasuk dalam indeks ke-[1], dan Volume milik indeks ke-t [5]\n",
    "\n",
    "Di baris ke-3: Date termasuk dalam indeks th [2], dan Volume termasuk dalam indeks td [9]\n",
    "\n",
    "Di baris ke-4: Date termasuk dalam indeks ke-[3], dan Volume milik indeks ke-t [13]\n",
    "\n",
    "Sehingga dapat dinyatakan bahwa\n",
    "\n",
    "Date ~ Volume = Date ~ (Tanggal * 4) + 1\n",
    "Jika saya mengulang Date dengan i maka saya perlu mengulang Volume dengan (i * 4) + 1"
   ]
  },
  {
   "cell_type": "markdown",
   "metadata": {},
   "source": [
    "Do the scrapping process here (please change this markdown with your explanation)"
   ]
  },
  {
   "cell_type": "code",
   "execution_count": 13,
   "metadata": {
    "ExecuteTime": {
     "end_time": "2020-01-13T05:12:24.008256Z",
     "start_time": "2020-01-13T05:12:23.980358Z"
    },
    "scrolled": true
   },
   "outputs": [
    {
     "data": {
      "text/plain": [
       "[('2022-07-08', '13170522513'),\n",
       " ('2022-07-07', '14422132962'),\n",
       " ('2022-07-06', '15393490018'),\n",
       " ('2022-07-05', '13827342516'),\n",
       " ('2022-07-04', '7939419239'),\n",
       " ('2022-07-03', '9601263305'),\n",
       " ('2022-07-02', '17420131788'),\n",
       " ('2022-07-01', '15402670572'),\n",
       " ('2022-06-30', '14755440934'),\n",
       " ('2022-06-29', '13181896477')]"
      ]
     },
     "execution_count": 13,
     "metadata": {},
     "output_type": "execute_result"
    }
   ],
   "source": [
    "temp = [] #initialize a vessel to lay down the scrapped data\n",
    "\n",
    "for i in range(0, date_row_length):\n",
    "\n",
    "    # scrapping process\n",
    "    # get date\n",
    "    date = table.find_all('th', attrs={'class':'font-semibold text-center'})[i].text\n",
    "    # get volume\n",
    "    # clean the ' ', '\\n', ',', and '$' while at it \n",
    "    vol = table.find_all('td', attrs={'class':'text-center'})[(i*4)+1].text.replace(\"\\n\",\"\").replace(\",\",\"\").replace(\"$\",\"\").replace(\" \",\"\")\n",
    "    temp.append((date,vol)) \n",
    "    \n",
    "temp[:10] "
   ]
  },
  {
   "cell_type": "markdown",
   "metadata": {},
   "source": [
    "Untuk tanggal nya, saya dapat membalikkan hasilnya dengan ::-1 untuk mengurutkan tanggal secara urut"
   ]
  },
  {
   "cell_type": "code",
   "execution_count": 14,
   "metadata": {},
   "outputs": [
    {
     "data": {
      "text/plain": [
       "[('2022-05-10', '34392685562'),\n",
       " ('2022-05-11', '36844564808'),\n",
       " ('2022-05-12', '46548009611'),\n",
       " ('2022-05-13', '41621733327'),\n",
       " ('2022-05-14', '23979529161')]"
      ]
     },
     "execution_count": 14,
     "metadata": {},
     "output_type": "execute_result"
    }
   ],
   "source": [
    "temp = temp[::-1]\n",
    "\n",
    "temp[:5]"
   ]
  },
  {
   "cell_type": "markdown",
   "metadata": {},
   "source": [
    "## Creating data frame & Data wrangling"
   ]
  },
  {
   "cell_type": "markdown",
   "metadata": {},
   "source": [
    "Kemudian saya dapat membuat dataframe dari yang sudah saya scrap pada website"
   ]
  },
  {
   "cell_type": "code",
   "execution_count": 15,
   "metadata": {
    "ExecuteTime": {
     "end_time": "2020-01-13T05:12:41.517372Z",
     "start_time": "2020-01-13T05:12:29.130015Z"
    }
   },
   "outputs": [
    {
     "data": {
      "text/html": [
       "<div>\n",
       "<style scoped>\n",
       "    .dataframe tbody tr th:only-of-type {\n",
       "        vertical-align: middle;\n",
       "    }\n",
       "\n",
       "    .dataframe tbody tr th {\n",
       "        vertical-align: top;\n",
       "    }\n",
       "\n",
       "    .dataframe thead th {\n",
       "        text-align: right;\n",
       "    }\n",
       "</style>\n",
       "<table border=\"1\" class=\"dataframe\">\n",
       "  <thead>\n",
       "    <tr style=\"text-align: right;\">\n",
       "      <th></th>\n",
       "      <th>Date</th>\n",
       "      <th>Volume</th>\n",
       "    </tr>\n",
       "  </thead>\n",
       "  <tbody>\n",
       "    <tr>\n",
       "      <th>0</th>\n",
       "      <td>2022-05-10</td>\n",
       "      <td>34392685562</td>\n",
       "    </tr>\n",
       "    <tr>\n",
       "      <th>1</th>\n",
       "      <td>2022-05-11</td>\n",
       "      <td>36844564808</td>\n",
       "    </tr>\n",
       "    <tr>\n",
       "      <th>2</th>\n",
       "      <td>2022-05-12</td>\n",
       "      <td>46548009611</td>\n",
       "    </tr>\n",
       "    <tr>\n",
       "      <th>3</th>\n",
       "      <td>2022-05-13</td>\n",
       "      <td>41621733327</td>\n",
       "    </tr>\n",
       "    <tr>\n",
       "      <th>4</th>\n",
       "      <td>2022-05-14</td>\n",
       "      <td>23979529161</td>\n",
       "    </tr>\n",
       "    <tr>\n",
       "      <th>5</th>\n",
       "      <td>2022-05-15</td>\n",
       "      <td>14395772635</td>\n",
       "    </tr>\n",
       "    <tr>\n",
       "      <th>6</th>\n",
       "      <td>2022-05-16</td>\n",
       "      <td>14395455889</td>\n",
       "    </tr>\n",
       "    <tr>\n",
       "      <th>7</th>\n",
       "      <td>2022-05-17</td>\n",
       "      <td>20068743682</td>\n",
       "    </tr>\n",
       "    <tr>\n",
       "      <th>8</th>\n",
       "      <td>2022-05-18</td>\n",
       "      <td>17005002529</td>\n",
       "    </tr>\n",
       "    <tr>\n",
       "      <th>9</th>\n",
       "      <td>2022-05-19</td>\n",
       "      <td>15892119501</td>\n",
       "    </tr>\n",
       "    <tr>\n",
       "      <th>10</th>\n",
       "      <td>2022-05-20</td>\n",
       "      <td>17828306699</td>\n",
       "    </tr>\n",
       "    <tr>\n",
       "      <th>11</th>\n",
       "      <td>2022-05-21</td>\n",
       "      <td>14638100163</td>\n",
       "    </tr>\n",
       "    <tr>\n",
       "      <th>12</th>\n",
       "      <td>2022-05-22</td>\n",
       "      <td>7551508571</td>\n",
       "    </tr>\n",
       "    <tr>\n",
       "      <th>13</th>\n",
       "      <td>2022-05-23</td>\n",
       "      <td>9623174528</td>\n",
       "    </tr>\n",
       "    <tr>\n",
       "      <th>14</th>\n",
       "      <td>2022-05-24</td>\n",
       "      <td>14627311158</td>\n",
       "    </tr>\n",
       "    <tr>\n",
       "      <th>15</th>\n",
       "      <td>2022-05-25</td>\n",
       "      <td>12880481568</td>\n",
       "    </tr>\n",
       "    <tr>\n",
       "      <th>16</th>\n",
       "      <td>2022-05-26</td>\n",
       "      <td>12554611854</td>\n",
       "    </tr>\n",
       "    <tr>\n",
       "      <th>17</th>\n",
       "      <td>2022-05-27</td>\n",
       "      <td>22669347247</td>\n",
       "    </tr>\n",
       "    <tr>\n",
       "      <th>18</th>\n",
       "      <td>2022-05-28</td>\n",
       "      <td>24344535949</td>\n",
       "    </tr>\n",
       "    <tr>\n",
       "      <th>19</th>\n",
       "      <td>2022-05-29</td>\n",
       "      <td>12004308559</td>\n",
       "    </tr>\n",
       "    <tr>\n",
       "      <th>20</th>\n",
       "      <td>2022-05-30</td>\n",
       "      <td>9767849361</td>\n",
       "    </tr>\n",
       "    <tr>\n",
       "      <th>21</th>\n",
       "      <td>2022-05-31</td>\n",
       "      <td>18803016950</td>\n",
       "    </tr>\n",
       "    <tr>\n",
       "      <th>22</th>\n",
       "      <td>2022-06-01</td>\n",
       "      <td>17409076011</td>\n",
       "    </tr>\n",
       "    <tr>\n",
       "      <th>23</th>\n",
       "      <td>2022-06-02</td>\n",
       "      <td>19904831726</td>\n",
       "    </tr>\n",
       "    <tr>\n",
       "      <th>24</th>\n",
       "      <td>2022-06-03</td>\n",
       "      <td>16444980824</td>\n",
       "    </tr>\n",
       "    <tr>\n",
       "      <th>25</th>\n",
       "      <td>2022-06-04</td>\n",
       "      <td>15012416794</td>\n",
       "    </tr>\n",
       "    <tr>\n",
       "      <th>26</th>\n",
       "      <td>2022-06-05</td>\n",
       "      <td>8295912403</td>\n",
       "    </tr>\n",
       "    <tr>\n",
       "      <th>27</th>\n",
       "      <td>2022-06-06</td>\n",
       "      <td>8385255000</td>\n",
       "    </tr>\n",
       "    <tr>\n",
       "      <th>28</th>\n",
       "      <td>2022-06-07</td>\n",
       "      <td>16623006598</td>\n",
       "    </tr>\n",
       "    <tr>\n",
       "      <th>29</th>\n",
       "      <td>2022-06-08</td>\n",
       "      <td>23647547692</td>\n",
       "    </tr>\n",
       "    <tr>\n",
       "      <th>30</th>\n",
       "      <td>2022-06-09</td>\n",
       "      <td>17712874977</td>\n",
       "    </tr>\n",
       "    <tr>\n",
       "      <th>31</th>\n",
       "      <td>2022-06-10</td>\n",
       "      <td>10469080004</td>\n",
       "    </tr>\n",
       "    <tr>\n",
       "      <th>32</th>\n",
       "      <td>2022-06-11</td>\n",
       "      <td>17639990086</td>\n",
       "    </tr>\n",
       "    <tr>\n",
       "      <th>33</th>\n",
       "      <td>2022-06-12</td>\n",
       "      <td>20409428648</td>\n",
       "    </tr>\n",
       "    <tr>\n",
       "      <th>34</th>\n",
       "      <td>2022-06-13</td>\n",
       "      <td>22843765039</td>\n",
       "    </tr>\n",
       "    <tr>\n",
       "      <th>35</th>\n",
       "      <td>2022-06-14</td>\n",
       "      <td>47571733027</td>\n",
       "    </tr>\n",
       "    <tr>\n",
       "      <th>36</th>\n",
       "      <td>2022-06-15</td>\n",
       "      <td>32772246927</td>\n",
       "    </tr>\n",
       "    <tr>\n",
       "      <th>37</th>\n",
       "      <td>2022-06-16</td>\n",
       "      <td>39679810345</td>\n",
       "    </tr>\n",
       "    <tr>\n",
       "      <th>38</th>\n",
       "      <td>2022-06-17</td>\n",
       "      <td>18016510161</td>\n",
       "    </tr>\n",
       "    <tr>\n",
       "      <th>39</th>\n",
       "      <td>2022-06-18</td>\n",
       "      <td>14067259811</td>\n",
       "    </tr>\n",
       "    <tr>\n",
       "      <th>40</th>\n",
       "      <td>2022-06-19</td>\n",
       "      <td>21112670623</td>\n",
       "    </tr>\n",
       "    <tr>\n",
       "      <th>41</th>\n",
       "      <td>2022-06-20</td>\n",
       "      <td>21676867430</td>\n",
       "    </tr>\n",
       "    <tr>\n",
       "      <th>42</th>\n",
       "      <td>2022-06-21</td>\n",
       "      <td>19817753726</td>\n",
       "    </tr>\n",
       "    <tr>\n",
       "      <th>43</th>\n",
       "      <td>2022-06-22</td>\n",
       "      <td>14838197888</td>\n",
       "    </tr>\n",
       "    <tr>\n",
       "      <th>44</th>\n",
       "      <td>2022-06-23</td>\n",
       "      <td>14331217471</td>\n",
       "    </tr>\n",
       "    <tr>\n",
       "      <th>45</th>\n",
       "      <td>2022-06-24</td>\n",
       "      <td>14247953151</td>\n",
       "    </tr>\n",
       "    <tr>\n",
       "      <th>46</th>\n",
       "      <td>2022-06-25</td>\n",
       "      <td>16288488163</td>\n",
       "    </tr>\n",
       "    <tr>\n",
       "      <th>47</th>\n",
       "      <td>2022-06-26</td>\n",
       "      <td>11692717742</td>\n",
       "    </tr>\n",
       "    <tr>\n",
       "      <th>48</th>\n",
       "      <td>2022-06-27</td>\n",
       "      <td>11375746747</td>\n",
       "    </tr>\n",
       "    <tr>\n",
       "      <th>49</th>\n",
       "      <td>2022-06-28</td>\n",
       "      <td>12044359298</td>\n",
       "    </tr>\n",
       "    <tr>\n",
       "      <th>50</th>\n",
       "      <td>2022-06-29</td>\n",
       "      <td>13181896477</td>\n",
       "    </tr>\n",
       "    <tr>\n",
       "      <th>51</th>\n",
       "      <td>2022-06-30</td>\n",
       "      <td>14755440934</td>\n",
       "    </tr>\n",
       "    <tr>\n",
       "      <th>52</th>\n",
       "      <td>2022-07-01</td>\n",
       "      <td>15402670572</td>\n",
       "    </tr>\n",
       "    <tr>\n",
       "      <th>53</th>\n",
       "      <td>2022-07-02</td>\n",
       "      <td>17420131788</td>\n",
       "    </tr>\n",
       "    <tr>\n",
       "      <th>54</th>\n",
       "      <td>2022-07-03</td>\n",
       "      <td>9601263305</td>\n",
       "    </tr>\n",
       "    <tr>\n",
       "      <th>55</th>\n",
       "      <td>2022-07-04</td>\n",
       "      <td>7939419239</td>\n",
       "    </tr>\n",
       "    <tr>\n",
       "      <th>56</th>\n",
       "      <td>2022-07-05</td>\n",
       "      <td>13827342516</td>\n",
       "    </tr>\n",
       "    <tr>\n",
       "      <th>57</th>\n",
       "      <td>2022-07-06</td>\n",
       "      <td>15393490018</td>\n",
       "    </tr>\n",
       "    <tr>\n",
       "      <th>58</th>\n",
       "      <td>2022-07-07</td>\n",
       "      <td>14422132962</td>\n",
       "    </tr>\n",
       "    <tr>\n",
       "      <th>59</th>\n",
       "      <td>2022-07-08</td>\n",
       "      <td>13170522513</td>\n",
       "    </tr>\n",
       "  </tbody>\n",
       "</table>\n",
       "</div>"
      ],
      "text/plain": [
       "          Date       Volume\n",
       "0   2022-05-10  34392685562\n",
       "1   2022-05-11  36844564808\n",
       "2   2022-05-12  46548009611\n",
       "3   2022-05-13  41621733327\n",
       "4   2022-05-14  23979529161\n",
       "5   2022-05-15  14395772635\n",
       "6   2022-05-16  14395455889\n",
       "7   2022-05-17  20068743682\n",
       "8   2022-05-18  17005002529\n",
       "9   2022-05-19  15892119501\n",
       "10  2022-05-20  17828306699\n",
       "11  2022-05-21  14638100163\n",
       "12  2022-05-22   7551508571\n",
       "13  2022-05-23   9623174528\n",
       "14  2022-05-24  14627311158\n",
       "15  2022-05-25  12880481568\n",
       "16  2022-05-26  12554611854\n",
       "17  2022-05-27  22669347247\n",
       "18  2022-05-28  24344535949\n",
       "19  2022-05-29  12004308559\n",
       "20  2022-05-30   9767849361\n",
       "21  2022-05-31  18803016950\n",
       "22  2022-06-01  17409076011\n",
       "23  2022-06-02  19904831726\n",
       "24  2022-06-03  16444980824\n",
       "25  2022-06-04  15012416794\n",
       "26  2022-06-05   8295912403\n",
       "27  2022-06-06   8385255000\n",
       "28  2022-06-07  16623006598\n",
       "29  2022-06-08  23647547692\n",
       "30  2022-06-09  17712874977\n",
       "31  2022-06-10  10469080004\n",
       "32  2022-06-11  17639990086\n",
       "33  2022-06-12  20409428648\n",
       "34  2022-06-13  22843765039\n",
       "35  2022-06-14  47571733027\n",
       "36  2022-06-15  32772246927\n",
       "37  2022-06-16  39679810345\n",
       "38  2022-06-17  18016510161\n",
       "39  2022-06-18  14067259811\n",
       "40  2022-06-19  21112670623\n",
       "41  2022-06-20  21676867430\n",
       "42  2022-06-21  19817753726\n",
       "43  2022-06-22  14838197888\n",
       "44  2022-06-23  14331217471\n",
       "45  2022-06-24  14247953151\n",
       "46  2022-06-25  16288488163\n",
       "47  2022-06-26  11692717742\n",
       "48  2022-06-27  11375746747\n",
       "49  2022-06-28  12044359298\n",
       "50  2022-06-29  13181896477\n",
       "51  2022-06-30  14755440934\n",
       "52  2022-07-01  15402670572\n",
       "53  2022-07-02  17420131788\n",
       "54  2022-07-03   9601263305\n",
       "55  2022-07-04   7939419239\n",
       "56  2022-07-05  13827342516\n",
       "57  2022-07-06  15393490018\n",
       "58  2022-07-07  14422132962\n",
       "59  2022-07-08  13170522513"
      ]
     },
     "execution_count": 15,
     "metadata": {},
     "output_type": "execute_result"
    }
   ],
   "source": [
    "import pandas as pd\n",
    "\n",
    "eth = pd.DataFrame(temp, columns = ('Date','Volume'))\n",
    "eth"
   ]
  },
  {
   "cell_type": "markdown",
   "metadata": {},
   "source": [
    "Sebelumnya, saya ingin memastikan tipe data yang didapat sudah sesuai dengan menggunakan `.dtypes` untuk memeriksa tipe datanya "
   ]
  },
  {
   "cell_type": "code",
   "execution_count": 16,
   "metadata": {
    "ExecuteTime": {
     "end_time": "2020-01-13T05:12:59.165559Z",
     "start_time": "2020-01-13T05:12:58.910012Z"
    },
    "scrolled": true
   },
   "outputs": [
    {
     "data": {
      "text/plain": [
       "Date      object\n",
       "Volume    object\n",
       "dtype: object"
      ]
     },
     "execution_count": 16,
     "metadata": {},
     "output_type": "execute_result"
    }
   ],
   "source": [
    "eth.dtypes"
   ]
  },
  {
   "cell_type": "markdown",
   "metadata": {},
   "source": [
    "Pada data yang didapat masih berupa objek, sehingga perlu dirubah sesuai jenis data yang didapat dengan metode `.astype`"
   ]
  },
  {
   "cell_type": "code",
   "execution_count": 17,
   "metadata": {
    "scrolled": true
   },
   "outputs": [
    {
     "data": {
      "text/plain": [
       "Date      datetime64[ns]\n",
       "Volume             int64\n",
       "dtype: object"
      ]
     },
     "execution_count": 17,
     "metadata": {},
     "output_type": "execute_result"
    }
   ],
   "source": [
    "eth = eth.astype({\"Date\": \"datetime64\", \n",
    "                  \"Volume\":\"int64\"})\n",
    "\n",
    "eth.dtypes"
   ]
  },
  {
   "cell_type": "markdown",
   "metadata": {},
   "source": [
    "Kemudian saya mengatur Date sebagai Index nya"
   ]
  },
  {
   "cell_type": "code",
   "execution_count": 18,
   "metadata": {},
   "outputs": [],
   "source": [
    "eth = eth.set_index('Date')"
   ]
  },
  {
   "cell_type": "markdown",
   "metadata": {},
   "source": [
    "Untuk memvisualisasikan datanya saya menggunakan `.plot'"
   ]
  },
  {
   "cell_type": "code",
   "execution_count": 19,
   "metadata": {},
   "outputs": [
    {
     "data": {
      "text/plain": [
       "<AxesSubplot:xlabel='Date'>"
      ]
     },
     "execution_count": 19,
     "metadata": {},
     "output_type": "execute_result"
    },
    {
     "data": {
      "image/png": "[encoded data removed]",
      "text/plain": [
       "<Figure size 432x288 with 1 Axes>"
      ]
     },
     "metadata": {
      "needs_background": "light"
     },
     "output_type": "display_data"
    }
   ],
   "source": [
    "eth.plot()"
   ]
  },
  {
   "cell_type": "markdown",
   "metadata": {},
   "source": [
    "Pada plot ethereum didapat dari 10 mei 2022 hingga 8 juli 2022 sekitar 2 bulan, didapatkan plot diatas. Pada plot ethereum diatas, didapatkan nilai volume terrtinggi mencapai $47,571,733,027 pada 14 Juni 2022 dan nilai tertinggi kedua ada pada $46,548,009,611 pada 12 Mei 2022. Jika dilihat dari pola 2 bulan terakhir pada garis plot ethereum ini, didapati pola bahwa akan didapati nilai volume tertinggi pada pertengahan bulan (Mei-Juni).Jika melihat nilai volume pada awal bulan seperti 6 Juni 2022 dan 4 Juli 2022 didapati nilai yang rendah dan cenderung mulai menurun pada awal bulan. Berdasarkan dari pola yang terlihat, saya bisa menyimpulkan untuk nilai volume tertinggi cenderung pada pertengahan bulan dan nilai volume terendah ada pada sekitar awal bulan"
   ]
  }
 ],
 "metadata": {
  "kernelspec": {
   "display_name": "Python 3.8.13 ('capstonee')",
   "language": "python",
   "name": "python3"
  },
  "language_info": {
   "codemirror_mode": {
    "name": "ipython",
    "version": 3
   },
   "file_extension": ".py",
   "mimetype": "text/x-python",
   "name": "python",
   "nbconvert_exporter": "python",
   "pygments_lexer": "ipython3",
   "version": "3.8.13"
  },
  "vscode": {
   "interpreter": {
    "hash": "8824191999048ef1b9ecf55f8dfa6c0552132c88f03952270e84280bcf4eab0d"
   }
  }
 },
 "nbformat": 4,
 "nbformat_minor": 2
}
